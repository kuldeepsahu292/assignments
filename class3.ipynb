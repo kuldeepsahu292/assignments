{
 "cells": [
  {
   "cell_type": "markdown",
   "id": "0b140dc1-b4b4-41e4-975e-1442dab072bc",
   "metadata": {},
   "source": [
    "1. create a variable 'city' and assign the name of your favorite city to it. print the variable. "
   ]
  },
  {
   "cell_type": "code",
   "execution_count": 3,
   "id": "a907b842-f0f8-499c-9cc6-da760427cea4",
   "metadata": {},
   "outputs": [
    {
     "name": "stdout",
     "output_type": "stream",
     "text": [
      "korba\n"
     ]
    }
   ],
   "source": [
    "city = \"korba\"\n",
    "print(city)"
   ]
  },
  {
   "cell_type": "markdown",
   "id": "6191e4aa-a089-4914-a6cc-aa6b57f2efd5",
   "metadata": {},
   "source": [
    "2. print the datatype of the variable 'city'"
   ]
  },
  {
   "cell_type": "code",
   "execution_count": 8,
   "id": "7eea1e65-e47b-47f8-9c82-b190c0ec6413",
   "metadata": {},
   "outputs": [
    {
     "data": {
      "text/plain": [
       "str"
      ]
     },
     "execution_count": 8,
     "metadata": {},
     "output_type": "execute_result"
    }
   ],
   "source": [
    "type(city)"
   ]
  },
  {
   "cell_type": "markdown",
   "id": "90ad3543-cea1-4aab-8184-105933294d1c",
   "metadata": {},
   "source": [
    "3. convert the integer 42 to a string and assign it to a new varible. "
   ]
  },
  {
   "cell_type": "code",
   "execution_count": 13,
   "id": "c93cacc3-f931-49d3-a4be-16676117adac",
   "metadata": {},
   "outputs": [
    {
     "name": "stdout",
     "output_type": "stream",
     "text": [
      "42\n"
     ]
    }
   ],
   "source": [
    "a= 42\n",
    "b = str(a)\n",
    "print(b)"
   ]
  },
  {
   "cell_type": "code",
   "execution_count": 15,
   "id": "1491aada-873e-4ba5-82db-4d554123cd65",
   "metadata": {},
   "outputs": [
    {
     "data": {
      "text/plain": [
       "str"
      ]
     },
     "execution_count": 15,
     "metadata": {},
     "output_type": "execute_result"
    }
   ],
   "source": [
    "type(b)"
   ]
  },
  {
   "cell_type": "markdown",
   "id": "a4b1a396-cdef-4781-9e61-3ef395fbd91f",
   "metadata": {},
   "source": [
    "4. use len() on your name variable and count length of your name"
   ]
  },
  {
   "cell_type": "code",
   "execution_count": 18,
   "id": "f8eaebfb-1273-41e5-98ec-9bc03186665f",
   "metadata": {},
   "outputs": [
    {
     "data": {
      "text/plain": [
       "7"
      ]
     },
     "execution_count": 18,
     "metadata": {},
     "output_type": "execute_result"
    }
   ],
   "source": [
    "name = \"kuldeep\"\n",
    "len(name)"
   ]
  },
  {
   "cell_type": "markdown",
   "id": "c0d55022-df13-4ec4-bcf6-1a510a132db6",
   "metadata": {},
   "source": [
    "5. use \"if\" statements to check \"code\" words exist or not in \"code square\"\n",
    "   "
   ]
  },
  {
   "cell_type": "code",
   "execution_count": 25,
   "id": "fb315210-60ad-41d4-ba7f-3802b0193157",
   "metadata": {},
   "outputs": [
    {
     "name": "stdout",
     "output_type": "stream",
     "text": [
      "yes code exist\n"
     ]
    }
   ],
   "source": [
    "txt = \"code sqaure\"\n",
    "##print(\"code\" in txt)\n",
    "if \"code\" in txt:\n",
    "    print(\"yes\",  \"code exist\")\n",
    "else:\n",
    "    print(\"code no exist\")"
   ]
  },
  {
   "cell_type": "code",
   "execution_count": null,
   "id": "216c9bc8-ba24-4358-9e33-171979eeef1e",
   "metadata": {},
   "outputs": [],
   "source": []
  }
 ],
 "metadata": {
  "kernelspec": {
   "display_name": "Python 3 (ipykernel)",
   "language": "python",
   "name": "python3"
  },
  "language_info": {
   "codemirror_mode": {
    "name": "ipython",
    "version": 3
   },
   "file_extension": ".py",
   "mimetype": "text/x-python",
   "name": "python",
   "nbconvert_exporter": "python",
   "pygments_lexer": "ipython3",
   "version": "3.12.4"
  }
 },
 "nbformat": 4,
 "nbformat_minor": 5
}
