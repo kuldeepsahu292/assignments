{
 "cells": [
  {
   "cell_type": "markdown",
   "id": "bf7005bd-ca36-448e-b4ea-c49496fca126",
   "metadata": {},
   "source": [
    "1. concatinate two variables of your  first and last name"
   ]
  },
  {
   "cell_type": "code",
   "execution_count": 13,
   "id": "6871e767-ee4d-4ee5-bb5f-507d9fa84aff",
   "metadata": {},
   "outputs": [
    {
     "name": "stdout",
     "output_type": "stream",
     "text": [
      "kuldeepsahu\n"
     ]
    }
   ],
   "source": [
    "firstname = \"kuldeep\"\n",
    "lastname = \"sahu\"\n",
    "c = (firstname+lastname)\n",
    "print(c)"
   ]
  },
  {
   "cell_type": "markdown",
   "id": "cac7ce55-23ad-46b4-bd38-979a9853588c",
   "metadata": {},
   "source": [
    "2. create a string variable of your firstname and lastname slice a string using indexeing so it will print your firstname"
   ]
  },
  {
   "cell_type": "code",
   "execution_count": 25,
   "id": "75146466-71c0-4577-8ee3-b3b5a5a950a3",
   "metadata": {},
   "outputs": [
    {
     "data": {
      "text/plain": [
       "'kuldeep'"
      ]
     },
     "execution_count": 25,
     "metadata": {},
     "output_type": "execute_result"
    }
   ],
   "source": [
    "name = \"kuldeep sahu\"\n",
    "name[0:7]\n"
   ]
  },
  {
   "cell_type": "markdown",
   "id": "79420765-9b1e-447a-ab71-49c8dae93511",
   "metadata": {},
   "source": [
    "3. create a list with different states of india\n"
   ]
  },
  {
   "cell_type": "code",
   "execution_count": 34,
   "id": "e8e7d6e7-4dc1-48e3-94d3-08676bb03abe",
   "metadata": {},
   "outputs": [],
   "source": [
    "states= [\"cg\",\"mp\",\"up\",\"delhi\",\"mumbai\",\"banglore\"]\n"
   ]
  },
  {
   "cell_type": "markdown",
   "id": "39fb0e58-711a-44f1-9ec5-a6c5b35a52bc",
   "metadata": {},
   "source": [
    "4. use for loop to print items from list "
   ]
  },
  {
   "cell_type": "code",
   "execution_count": 40,
   "id": "7f767e4c-8288-46c7-80cb-d6a8c08bd237",
   "metadata": {},
   "outputs": [
    {
     "name": "stdout",
     "output_type": "stream",
     "text": [
      "cg\n",
      "mp\n",
      "up\n",
      "delhi\n",
      "mumbai\n",
      "banglore\n"
     ]
    }
   ],
   "source": [
    "for i in states:\n",
    "    print(i)"
   ]
  },
  {
   "cell_type": "code",
   "execution_count": null,
   "id": "97e1dee0-f94a-4b3e-9df0-216b2f992f94",
   "metadata": {},
   "outputs": [],
   "source": []
  }
 ],
 "metadata": {
  "kernelspec": {
   "display_name": "Python 3 (ipykernel)",
   "language": "python",
   "name": "python3"
  },
  "language_info": {
   "codemirror_mode": {
    "name": "ipython",
    "version": 3
   },
   "file_extension": ".py",
   "mimetype": "text/x-python",
   "name": "python",
   "nbconvert_exporter": "python",
   "pygments_lexer": "ipython3",
   "version": "3.12.4"
  }
 },
 "nbformat": 4,
 "nbformat_minor": 5
}
