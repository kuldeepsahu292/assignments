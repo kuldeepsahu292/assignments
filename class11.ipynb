{
 "cells": [
  {
   "cell_type": "markdown",
   "id": "aaef0d25-3a44-4a0d-8fee-12cd9f7fe085",
   "metadata": {},
   "source": [
    "\n",
    "1) Write a Python program that attempts to divide a number by zero within a try block. Catch the resulting ZeroDivisionError and print a custom message."
   ]
  },
  {
   "cell_type": "code",
   "execution_count": 2,
   "id": "09774699-14ab-468e-9c49-f32324d130ff",
   "metadata": {},
   "outputs": [
    {
     "name": "stdout",
     "output_type": "stream",
     "text": [
      "Error: You cannot divide by zero!\n",
      "Program continues...\n"
     ]
    }
   ],
   "source": [
    "# Attempt to divide by zero within a try block\n",
    "try:\n",
    "    result = 10 / 0  # This will raise ZeroDivisionError\n",
    "except ZeroDivisionError:\n",
    "    print(\"Error: You cannot divide by zero!\")\n",
    "\n",
    "print(\"Program continues...\")"
   ]
  },
  {
   "cell_type": "markdown",
   "id": "02130532-f440-48ab-b04c-fe25c45758b6",
   "metadata": {},
   "source": [
    "2) Write a Python program that attempts to print an undefined variable within a try block. Catch the resulting NameError and print \"Variable is not defined\"."
   ]
  },
  {
   "cell_type": "code",
   "execution_count": 5,
   "id": "cf10edbf-b276-4715-8770-2c1da4d3656c",
   "metadata": {},
   "outputs": [
    {
     "name": "stdout",
     "output_type": "stream",
     "text": [
      "Variable is not defined\n",
      "Program continues...\n"
     ]
    }
   ],
   "source": [
    "# Attempt to print an undefined variable within a try block\n",
    "try:\n",
    "    print(my_variable)  # 'my_variable' is not defined\n",
    "except NameError:\n",
    "    print(\"Variable is not defined\")\n",
    "\n",
    "print(\"Program continues...\")"
   ]
  },
  {
   "cell_type": "markdown",
   "id": "9c98d027-6029-4b16-ac12-7720ea2d3a92",
   "metadata": {},
   "source": [
    "3) Write a Python program that attempts to open a non-existent file. Catch the resulting FileNotFoundError, print an error message, and ensure that a finally block prints \"Operation finished\" regardless of the outcome."
   ]
  },
  {
   "cell_type": "code",
   "execution_count": 12,
   "id": "7ebd07b0-44eb-448e-8e61-ef5491404ff3",
   "metadata": {},
   "outputs": [
    {
     "name": "stdout",
     "output_type": "stream",
     "text": [
      "Error: The file does not exist.\n",
      "Operation finished\n"
     ]
    }
   ],
   "source": [
    "# Attempt to open a non-existent file within a try block\n",
    "try:\n",
    "    with open(\"non_existent_file.txt\", \"r\") as file:\n",
    "        content = file.read()\n",
    "        print(content)\n",
    "except FileNotFoundError:\n",
    "    print(\"Error: The file does not exist.\")\n",
    "finally:\n",
    "    print(\"Operation finished\")"
   ]
  },
  {
   "cell_type": "markdown",
   "id": "3c8c58bc-f343-481a-9a07-01c24a7e73cc",
   "metadata": {},
   "source": [
    "4) Write a Python program that uses a try block to check if a number is positive. If the number is positive, use the else block to print \"The number is positive\". Catch any exceptions that occur during the check."
   ]
  },
  {
   "cell_type": "code",
   "execution_count": null,
   "id": "6582fccd-13b2-4031-b30e-f6aff41325d2",
   "metadata": {},
   "outputs": [],
   "source": [
    "try:\n",
    "    # Taking input and converting it to an integer\n",
    "    num = int(input(\"Enter a number: \"))\n",
    "\n",
    "    # Checking if the number is positive\n",
    "    if num > 0:\n",
    "        print(\"The number is positive.\")\n",
    "    else:\n",
    "        print(\"The number is not positive.\")\n",
    "\n",
    "except ValueError:\n",
    "    print(\"Error: Invalid input! Please enter a numeric value.\")\n",
    "\n",
    "except Exception as e:\n",
    "    print(f\"An unexpected error occurred: {e}\")\n",
    "\n",
    "else:\n",
    "    print(\"Number check completed successfully.\")"
   ]
  },
  {
   "cell_type": "markdown",
   "id": "7990149c-42f3-46b9-bb09-567c835542fd",
   "metadata": {},
   "source": [
    "5) Write a Python program that raises a ValueError if a variable age is set to a negative number. Include a custom error message that states \"Age cannot be negative\"."
   ]
  },
  {
   "cell_type": "code",
   "execution_count": null,
   "id": "89a67330-89b6-4ae6-a56c-8b9f7c71dae1",
   "metadata": {},
   "outputs": [],
   "source": [
    "# Function to check age validity\n",
    "def check_age(age):\n",
    "    if age < 0:\n",
    "        raise ValueError(\"Age cannot be negative\")\n",
    "    print(f\"Valid age: {age}\")\n",
    "\n",
    "# Example usage\n",
    "try:\n",
    "    age = int(input(\"Enter your age: \"))  # User input\n",
    "    check_age(age)\n",
    "except ValueError as e:\n",
    "    print(f\"Error: {e}\")\n",
    "\n",
    "print(\"Program continues...\")"
   ]
  },
  {
   "cell_type": "code",
   "execution_count": null,
   "id": "3f6dd835-308c-487e-ab38-b6adf3c86eae",
   "metadata": {},
   "outputs": [],
   "source": []
  }
 ],
 "metadata": {
  "kernelspec": {
   "display_name": "Python 3 (ipykernel)",
   "language": "python",
   "name": "python3"
  },
  "language_info": {
   "codemirror_mode": {
    "name": "ipython",
    "version": 3
   },
   "file_extension": ".py",
   "mimetype": "text/x-python",
   "name": "python",
   "nbconvert_exporter": "python",
   "pygments_lexer": "ipython3",
   "version": "3.12.4"
  }
 },
 "nbformat": 4,
 "nbformat_minor": 5
}
