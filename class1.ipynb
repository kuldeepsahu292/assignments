{
 "cells": [
  {
   "cell_type": "markdown",
   "id": "fb9e054e-5545-43e3-927f-4efc400d5fd0",
   "metadata": {},
   "source": [
    "creating variables\n"
   ]
  },
  {
   "cell_type": "code",
   "execution_count": null,
   "id": "2ee1f542-d46f-4bc9-85c3-0d27074c90d9",
   "metadata": {},
   "outputs": [],
   "source": [
    "a = 5\n",
    "b = 6\n",
    "new = 9\n",
    "ds= 7\n",
    "var5 = 2"
   ]
  },
  {
   "cell_type": "markdown",
   "id": "63da8221-fca3-47ac-aa3c-a107e942179e",
   "metadata": {},
   "source": [
    "printing outputs\n"
   ]
  },
  {
   "cell_type": "code",
   "execution_count": 8,
   "id": "536c2c83-5d0f-4677-a95e-b214abc6b5af",
   "metadata": {},
   "outputs": [
    {
     "name": "stdout",
     "output_type": "stream",
     "text": [
      "5\n"
     ]
    }
   ],
   "source": [
    "print(a)\n",
    "print(b)\n",
    "print(new)\n",
    "print(ds)\n",
    "print(var5)"
   ]
  },
  {
   "cell_type": "code",
   "execution_count": null,
   "id": "f2e13722-a7a2-480f-88e3-7d836d459293",
   "metadata": {},
   "outputs": [],
   "source": []
  }
 ],
 "metadata": {
  "kernelspec": {
   "display_name": "Python 3 (ipykernel)",
   "language": "python",
   "name": "python3"
  },
  "language_info": {
   "codemirror_mode": {
    "name": "ipython",
    "version": 3
   },
   "file_extension": ".py",
   "mimetype": "text/x-python",
   "name": "python",
   "nbconvert_exporter": "python",
   "pygments_lexer": "ipython3",
   "version": "3.12.4"
  }
 },
 "nbformat": 4,
 "nbformat_minor": 5
}
