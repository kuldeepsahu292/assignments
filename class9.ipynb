{
 "cells": [
  {
   "cell_type": "markdown",
   "id": "c8fdce55-62f8-448f-8493-c9dc55ceebd6",
   "metadata": {},
   "source": [
    "1.) Create a base class `Animal` with attributes `name` and `species`, and a method `describe` to print them. Create a derived class `Dog` with an additional attribute `breed` and a method `bark` to print \"Woof! Woof!\". Instantiate a `Dog` object and call its methods.\n",
    "\n"
   ]
  },
  {
   "cell_type": "code",
   "execution_count": 21,
   "id": "bf3f053a-86f3-4132-96a4-4b61a799433e",
   "metadata": {},
   "outputs": [
    {
     "name": "stdout",
     "output_type": "stream",
     "text": [
      "This is Buddy, a Canine\n",
      "Breed: Golden Retriever\n",
      "Woof! Woof!\n"
     ]
    }
   ],
   "source": [
    "class Animal:\n",
    "    def __init__(self,name, species):\n",
    "        self.name = name\n",
    "        self.species = species\n",
    "    def describe(self):\n",
    "        print(f\"This is {self.name}, a {self.species}\")\n",
    "\n",
    "# Derived class Dog\n",
    "class Dog(Animal):\n",
    "    def __init__(self, name, species, breed):\n",
    "        super().__init__(name, species)\n",
    "        self.breed = breed\n",
    "\n",
    "    def bark(self):\n",
    "        print(\"Woof! Woof!\")\n",
    "\n",
    "\n",
    "dog = Dog(\"Buddy\", \"Canine\", \"Golden Retriever\")\n",
    "\n",
    "\n",
    "dog.describe()\n",
    "print(f\"Breed: {dog.breed}\")\n",
    "dog.bark()\n"
   ]
  },
  {
   "cell_type": "markdown",
   "id": "5ef92ecd-592f-4f9c-b961-9aeeb28e87e5",
   "metadata": {},
   "source": [
    "2. ) Define a class `Person` with attributes `first_name` and `last_name`, and a method `print_name`. Create a derived class `Employee` with an additional attribute `employee_id`. Use the `super()` method to initialize the inherited attributes. Add a method `print_employee_info`. Instantiate an `Employee` object and call its methods."
   ]
  },
  {
   "cell_type": "code",
   "execution_count": 49,
   "id": "70fd4a97-32dc-4793-9c6e-51babbcaa764",
   "metadata": {},
   "outputs": [
    {
     "name": "stdout",
     "output_type": "stream",
     "text": [
      "the name is ashish sahu , employee id is 0984\n"
     ]
    }
   ],
   "source": [
    "class Person:\n",
    "    def __init__(self, first_name ,last_name):\n",
    "        self.first_name = first_name\n",
    "        self.last_name = last_name\n",
    "\n",
    "    def print_name(self):\n",
    "        print(f\"the name is {self.first_name} , {self.last_name}\")\n",
    "\n",
    "class Employee(Person):\n",
    "    def __init__(self, first_name, last_name, employee_id):\n",
    "        super().__init__(first_name , last_name)\n",
    "        self.employee_id = employee_id\n",
    "\n",
    "    def print_employee_info(self):\n",
    "         print(f\"the name is {self.first_name} {self.last_name} , employee id is {self.employee_id}\")\n",
    "\n",
    "\n",
    "employee = Employee(\"ashish\" , \"sahu\", \"0984\")\n",
    "employee.print_employee_info()\n"
   ]
  },
  {
   "cell_type": "markdown",
   "id": "d1f73dc2-2dc5-48b7-8a41-4026d8fec040",
   "metadata": {},
   "source": [
    "3. ) Define a class `Shape` with a method `area` returning 0. Create derived classes `Circle` and `Rectangle`, overriding the `area` method to return the actual area. Instantiate objects of `Circle` and `Rectangle` and print their areas."
   ]
  },
  {
   "cell_type": "code",
   "execution_count": 54,
   "id": "5968a042-9c3c-4d07-b8ba-4b06ec0ac15d",
   "metadata": {},
   "outputs": [
    {
     "name": "stdout",
     "output_type": "stream",
     "text": [
      "Circle area: 78.54\n",
      "Rectangle area: 24.00\n"
     ]
    }
   ],
   "source": [
    "import math\n",
    "class Shape:\n",
    "    def area(self):\n",
    "        return 0  \n",
    "class Circle(Shape):\n",
    "    def __init__(self, radius):\n",
    "        self.radius = radius\n",
    "\n",
    "    def area(self):\n",
    "        return math.pi * self.radius ** 2  # Area of a circle: πr²\n",
    "\n",
    "class Rectangle(Shape):\n",
    "    def __init__(self, width, height):\n",
    "        self.width = width\n",
    "        self.height = height\n",
    "\n",
    "    def area(self):\n",
    "        return self.width * self.height  # Area of a rectangle: width × height\n",
    "\n",
    "circle = Circle(5)\n",
    "rectangle = Rectangle(4, 6)\n",
    "\n",
    "print(f\"Circle area: {circle.area():.2f}\")\n",
    "print(f\"Rectangle area: {rectangle.area():.2f}\")"
   ]
  },
  {
   "cell_type": "markdown",
   "id": "3b7bdcee-9e77-4e43-a7d6-aab0e4bf5f13",
   "metadata": {},
   "source": [
    "4.)Create base classes `Flying` with a method `fly` and `Swimming` with a method `swim`. Create a derived class `Duck` inheriting from both, with an additional method `quack`. Instantiate a `Duck` object and call all its methods."
   ]
  },
  {
   "cell_type": "code",
   "execution_count": 59,
   "id": "c9e0b377-f325-4e9e-a709-06dc19000d35",
   "metadata": {},
   "outputs": [
    {
     "name": "stdout",
     "output_type": "stream",
     "text": [
      "Flapping wings and soaring through the sky!\n",
      "Paddling through the water gracefully!\n",
      "Donald says: Quack! Quack!\n"
     ]
    }
   ],
   "source": [
    "\n",
    "class Flying:\n",
    "    def fly(self):\n",
    "        print(\"Flapping wings and soaring through the sky!\")\n",
    "\n",
    "class Swimming:\n",
    "    def swim(self):\n",
    "        print(\"Paddling through the water gracefully!\")\n",
    "\n",
    "class Duck(Flying, Swimming):\n",
    "    def __init__(self, name):\n",
    "        self.name = name\n",
    "\n",
    "    def quack(self):\n",
    "        print(f\"{self.name} says: Quack! Quack!\")\n",
    "\n",
    "duck = Duck(\"Donald\")\n",
    "\n",
    "duck.fly()\n",
    "duck.swim()\n",
    "duck.quack()"
   ]
  },
  {
   "cell_type": "markdown",
   "id": "b6c91d84-e9f4-4006-94b4-3cb0d0ac188d",
   "metadata": {},
   "source": [
    "5.) Define class `A` with a method `method_A`, and class `E` with a method `method_E`. Create class `B` inheriting from `A` with a method `method_B`, and class `C` inheriting from `A` and `E` with a method `method_C`. Define class `D` inheriting from both `B` and `C` with a method `method_D`. Instantiate a `D` object and call all its methods.\n",
    "\n"
   ]
  },
  {
   "cell_type": "code",
   "execution_count": 62,
   "id": "e9ce7b8b-f496-43d0-ab9e-73976137bc17",
   "metadata": {},
   "outputs": [
    {
     "name": "stdout",
     "output_type": "stream",
     "text": [
      "Method A from class A\n",
      "Method E from class E\n",
      "Method B from class B\n",
      "Method C from class C\n",
      "Method D from class D\n"
     ]
    }
   ],
   "source": [
    "\n",
    "class A:\n",
    "    def method_A(self):\n",
    "        print(\"Method A from class A\")\n",
    "\n",
    "class E:\n",
    "    def method_E(self):\n",
    "        print(\"Method E from class E\")\n",
    "\n",
    "# Class B inheriting from A\n",
    "class B(A):\n",
    "    def method_B(self):\n",
    "        print(\"Method B from class B\")\n",
    "\n",
    "# Class C inheriting from A and E (multiple inheritance)\n",
    "class C(A, E):\n",
    "    def method_C(self):\n",
    "        print(\"Method C from class C\")\n",
    "\n",
    "# Class D inheriting from both B and C (multiple inheritance)\n",
    "class D(B, C):\n",
    "    def method_D(self):\n",
    "        print(\"Method D from class D\")\n",
    "\n",
    "\n",
    "obj_D = D()\n",
    "\n",
    "# Call all methods\n",
    "obj_D.method_A()  # Inherited from A\n",
    "obj_D.method_E()  # Inherited from E (via C)\n",
    "obj_D.method_B()  # Inherited from B\n",
    "obj_D.method_C()  # Inherited from C\n",
    "obj_D.method_D()  # Defined in D"
   ]
  },
  {
   "cell_type": "code",
   "execution_count": null,
   "id": "5995139c-ec64-406d-9821-eed875fb192e",
   "metadata": {},
   "outputs": [],
   "source": []
  }
 ],
 "metadata": {
  "kernelspec": {
   "display_name": "Python 3 (ipykernel)",
   "language": "python",
   "name": "python3"
  },
  "language_info": {
   "codemirror_mode": {
    "name": "ipython",
    "version": 3
   },
   "file_extension": ".py",
   "mimetype": "text/x-python",
   "name": "python",
   "nbconvert_exporter": "python",
   "pygments_lexer": "ipython3",
   "version": "3.12.4"
  }
 },
 "nbformat": 4,
 "nbformat_minor": 5
}
