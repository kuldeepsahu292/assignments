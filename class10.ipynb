{
 "cells": [
  {
   "cell_type": "markdown",
   "id": "c804172d-5886-46dc-b8b1-cefe063dde51",
   "metadata": {},
   "source": [
    "1. Date Module Operations\n",
    "\n",
    "\n",
    "      1. Display the current date and time.\n",
    "\n",
    "\n",
    "      2. Create a date object for `July 4, 2022`, and print it.\n",
    "\n",
    "\n",
    "      3. Extract and display the name of the month from the date object `December 15, 2021`."
   ]
  },
  {
   "cell_type": "code",
   "execution_count": 20,
   "id": "042da695-6d09-446c-9815-c4c833cb8e91",
   "metadata": {},
   "outputs": [
    {
     "name": "stdout",
     "output_type": "stream",
     "text": [
      "Current Date and Time: 2025-05-05 00:06:12.155996\n",
      "Date Object: 2022-07-04\n",
      "Month Name: December\n"
     ]
    }
   ],
   "source": [
    "from datetime import datetime, date\n",
    "\n",
    "# 1. Display the current date and time\n",
    "current_datetime = datetime.now()\n",
    "print(\"Current Date and Time:\", current_datetime)\n",
    "\n",
    "# 2. Create a date object for July 4, 2022, and print it\n",
    "date_object = date(2022, 7, 4)\n",
    "print(\"Date Object:\", date_object)\n",
    "\n",
    "# 3. Extract and display the name of the month from December 15, 2021\n",
    "specific_date = date(2021, 12, 15)\n",
    "month_name = specific_date.strftime(\"%B\")\n",
    "print(\"Month Name:\", month_name)"
   ]
  },
  {
   "cell_type": "markdown",
   "id": "3f0e5242-ae77-4c2d-a78c-0ceab35009af",
   "metadata": {},
   "source": [
    "2. Mathematical Calculations with `math` Module\n",
    "\n",
    "\n",
    "  - Use the `math` module to:\n",
    "\n",
    "\n",
    "      1. Compute and print the square root of `81`.\n",
    "\n",
    "\n",
    "      2. Find and display the ceiling and floor values of `8.3`.\n",
    "\n",
    "\n",
    "      3. Calculate and print `2` raised to the power of `5`.\n",
    "\n",
    "\n",
    "      4. Print the value of π (pi) from the `math` module.\n",
    "\n"
   ]
  },
  {
   "cell_type": "code",
   "execution_count": 37,
   "id": "1387360c-e569-415f-bc07-d021c7f4d8b7",
   "metadata": {},
   "outputs": [
    {
     "name": "stdout",
     "output_type": "stream",
     "text": [
      "9.0\n",
      "Ceiling of 8.3: 9\n",
      "Floor of 8.3: 8\n",
      "2 raised to the power of 5: 32.0\n",
      "Value of pi: 3.141592653589793\n"
     ]
    }
   ],
   "source": [
    "import math\n",
    "\n",
    "# Compute and print the square root of 81\n",
    "x = math.sqrt(81)\n",
    "print(x)\n",
    "\n",
    "# Find and display the ceiling and floor values of 8.3\n",
    "ceil_value = math.ceil(8.3)\n",
    "floor_value = math.floor(8.3)\n",
    "print(\"Ceiling of 8.3:\", ceil_value)\n",
    "print(\"Floor of 8.3:\", floor_value)\n",
    "\n",
    "# Calculate and print 2 raised to the power of 5\n",
    "power_value = math.pow(2, 5)\n",
    "print(\"2 raised to the power of 5:\", power_value)\n",
    "\n",
    "# Print the value of π (pi) from the math module.\n",
    "pi_value = math.pi\n",
    "print(\"Value of pi:\", pi_value)\n",
    "\n",
    "\n",
    "\n"
   ]
  },
  {
   "cell_type": "markdown",
   "id": "e28799dc-f6c8-478a-b747-fa45de67bb5a",
   "metadata": {},
   "source": [
    "3. Polymorphism in Built-in and Custom Classes\n",
    "\n",
    "\n",
    "    - Demonstrate polymorphism by:\n",
    "\n",
    "\n",
    "      1. Using the `len()` function on a string (`\"Python\"`), a tuple (`(1, 2, 3)`), and a dictionary (`{\"name\": \"John\", \"age\": 30}`) and print their lengths.\n",
    "\n",
    "\n",
    "      2. Define three classes: `Dog`, `Cat`, and `Bird`. Each class should have a `speak` method that prints a unique sound. Create an instance of each class and use a loop to call their `speak` methods."
   ]
  },
  {
   "cell_type": "code",
   "execution_count": 40,
   "id": "05107c5e-f3da-48c4-aeb0-78807a56d4b5",
   "metadata": {},
   "outputs": [
    {
     "name": "stdout",
     "output_type": "stream",
     "text": [
      "Length of string: 6\n",
      "Length of tuple: 3\n",
      "Length of dictionary: 2\n",
      "Woof!\n",
      "Meow!\n",
      "Chirp!\n"
     ]
    }
   ],
   "source": [
    "# 1. Using len() function on different data types\n",
    "string_value = \"Python\"\n",
    "tuple_value = (1, 2, 3)\n",
    "dict_value = {\"name\": \"John\", \"age\": 30}\n",
    "\n",
    "print(\"Length of string:\", len(string_value))\n",
    "print(\"Length of tuple:\", len(tuple_value))\n",
    "print(\"Length of dictionary:\", len(dict_value))\n",
    "\n",
    "# 2. Defining custom classes with polymorphic behavior\n",
    "class Dog:\n",
    "    def speak(self):\n",
    "        return \"Woof!\"\n",
    "\n",
    "class Cat:\n",
    "    def speak(self):\n",
    "        return \"Meow!\"\n",
    "\n",
    "class Bird:\n",
    "    def speak(self):\n",
    "        return \"Chirp!\"\n",
    "\n",
    "# Creating instances of each class\n",
    "animals = [Dog(), Cat(), Bird()]\n",
    "\n",
    "# Looping through instances and calling speak() method\n",
    "for animal in animals:\n",
    "    print(animal.speak())"
   ]
  },
  {
   "cell_type": "markdown",
   "id": "f5acb71c-b75a-4014-a8b0-221b37d67f6e",
   "metadata": {},
   "source": [
    "4. File Handling: Creation, Reading, and Appending\n",
    "\n",
    "\n",
    "      1. Create a file named `notes.txt` and write `\"First Line\"` into it.\n",
    "\n",
    "\n",
    "      2. Open `notes.txt` and read its contents. Print the content to the console.\n",
    "\n",
    "\n",
    "      3. Append `\"Second Line\"` to `notes.txt`.\n",
    "\n",
    "\n",
    "      4. Open and read the updated contents of `notes.txt`, and print the results.\n",
    "\n"
   ]
  },
  {
   "cell_type": "code",
   "execution_count": 43,
   "id": "f58824d6-d66c-4c26-a475-1cc1c73803a0",
   "metadata": {},
   "outputs": [
    {
     "name": "stdout",
     "output_type": "stream",
     "text": [
      "Contents of notes.txt after writing: First Line\n",
      "\n",
      "Contents of notes.txt after appending: First Line\n",
      "Second Line\n",
      "\n"
     ]
    }
   ],
   "source": [
    "# 1. Create a file and write \"First Line\" into it\n",
    "with open(\"notes.txt\", \"w\") as file:\n",
    "    file.write(\"First Line\\n\")\n",
    "\n",
    "# 2. Open the file and read its contents\n",
    "with open(\"notes.txt\", \"r\") as file:\n",
    "    content = file.read()\n",
    "print(\"Contents of notes.txt after writing:\", content)\n",
    "\n",
    "# 3. Append \"Second Line\" to the file\n",
    "with open(\"notes.txt\", \"a\") as file:\n",
    "    file.write(\"Second Line\\n\")\n",
    "\n",
    "# 4. Open and read the updated contents\n",
    "with open(\"notes.txt\", \"r\") as file:\n",
    "    updated_content = file.read()\n",
    "print(\"Contents of notes.txt after appending:\", updated_content)"
   ]
  },
  {
   "cell_type": "markdown",
   "id": "4085d9d3-cada-45df-9408-ce57fcf52bc3",
   "metadata": {},
   "source": [
    "5. File Handling: Checking Existence and Deleting\n",
    "\n",
    "\n",
    "      1. Check if a file named `testfile.txt` exists in the current directory. If it does, delete the file and print `\"File deleted.\"`.\n",
    "\n",
    "\n",
    "      2. If `testfile.txt` does not exist, print `\"File does not exist.\"`.\n",
    "\n"
   ]
  },
  {
   "cell_type": "code",
   "execution_count": 46,
   "id": "8076635d-025f-4a33-8b5d-e9146ebb316b",
   "metadata": {},
   "outputs": [
    {
     "name": "stdout",
     "output_type": "stream",
     "text": [
      "File does not exist.\n"
     ]
    }
   ],
   "source": [
    "import os\n",
    "\n",
    "file_name = \"testfile.txt\"\n",
    "\n",
    "# Check if the file exists\n",
    "if os.path.exists(file_name):\n",
    "    os.remove(file_name)  # Delete the file\n",
    "    print(\"File deleted.\")\n",
    "else:\n",
    "    print(\"File does not exist.\")"
   ]
  },
  {
   "cell_type": "code",
   "execution_count": null,
   "id": "01f6c848-3b0d-41a7-9e38-dfd482260805",
   "metadata": {},
   "outputs": [],
   "source": []
  }
 ],
 "metadata": {
  "kernelspec": {
   "display_name": "Python 3 (ipykernel)",
   "language": "python",
   "name": "python3"
  },
  "language_info": {
   "codemirror_mode": {
    "name": "ipython",
    "version": 3
   },
   "file_extension": ".py",
   "mimetype": "text/x-python",
   "name": "python",
   "nbconvert_exporter": "python",
   "pygments_lexer": "ipython3",
   "version": "3.12.4"
  }
 },
 "nbformat": 4,
 "nbformat_minor": 5
}
