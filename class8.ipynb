{
 "cells": [
  {
   "cell_type": "markdown",
   "id": "8ff334c4-cc7d-44d3-99e3-b6ec90e65fc5",
   "metadata": {},
   "source": [
    "1) Write a lambda function to calculate the square of a number. Use it to print the square of 8.\r\n",
    "\r\n",
    "\n"
   ]
  },
  {
   "cell_type": "code",
   "execution_count": 16,
   "id": "1b97b135-8946-4663-aa19-99c30cc57f0c",
   "metadata": {},
   "outputs": [
    {
     "name": "stdout",
     "output_type": "stream",
     "text": [
      "64\n"
     ]
    }
   ],
   "source": [
    "x = lambda a : a**2\n",
    "print(x(8))"
   ]
  },
  {
   "cell_type": "markdown",
   "id": "df4308de-7eba-4569-a565-3449f8029fc0",
   "metadata": {},
   "source": [
    "2) Create a lambda function to multiply three arguments. Use it to multiply 3, 4, and 5, then print the result.\n",
    "\n",
    "        \n",
    "         "
   ]
  },
  {
   "cell_type": "code",
   "execution_count": 19,
   "id": "2877ba60-f8ad-4c88-9868-577d5b02718a",
   "metadata": {},
   "outputs": [
    {
     "name": "stdout",
     "output_type": "stream",
     "text": [
      "60\n"
     ]
    }
   ],
   "source": [
    "x = lambda a,b,c: a*b*c\n",
    "print(x(3,4,5))"
   ]
  },
  {
   "cell_type": "markdown",
   "id": "aa902add-a823-4a24-b922-9794ad842d81",
   "metadata": {},
   "source": [
    "\n",
    " 3) Write a lambda function to find the maximum of two numbers. Use it to find the maximum between 10 and 20 and print the result."
   ]
  },
  {
   "cell_type": "code",
   "execution_count": 26,
   "id": "795b43ee-1b31-4886-8a29-ba101d073370",
   "metadata": {},
   "outputs": [
    {
     "name": "stdout",
     "output_type": "stream",
     "text": [
      "20\n"
     ]
    }
   ],
   "source": [
    "x = lambda a,b : max(a,b)\n",
    "print(x(10,20))"
   ]
  },
  {
   "cell_type": "markdown",
   "id": "04a7e00c-3107-4e98-98b6-c0c02af69277",
   "metadata": {},
   "source": [
    "4) Create a list of integers and use a lambda function with the filter method to filter out even numbers. Print the resulting list.\n",
    "\n"
   ]
  },
  {
   "cell_type": "code",
   "execution_count": 37,
   "id": "7b25cc53-748a-4163-ad8a-9f36cd1f0144",
   "metadata": {},
   "outputs": [
    {
     "name": "stdout",
     "output_type": "stream",
     "text": [
      "[2, 4, 6, 8, 10]\n"
     ]
    }
   ],
   "source": [
    "numbers = [1, 2, 3, 4, 5, 6, 7, 8, 9, 10]\n",
    "even_numbers = list(filter(lambda x: x % 2 == 0, numbers))\n",
    "print(even_numbers)\n"
   ]
  },
  {
   "cell_type": "markdown",
   "id": "42a47cf3-9a30-4f04-b78b-c9cd2712d49a",
   "metadata": {},
   "source": [
    "5) Create a class named Animal with an __init__ method that initializes species and name. Instantiate an object of this class with species \"Dog\" and name \"Buddy\", then print the species and name.\n",
    "\n"
   ]
  },
  {
   "cell_type": "code",
   "execution_count": 44,
   "id": "e90f1b81-09f7-433d-bb7d-f5dce2355c8a",
   "metadata": {},
   "outputs": [
    {
     "name": "stdout",
     "output_type": "stream",
     "text": [
      "Buddy\n",
      "Dog\n"
     ]
    }
   ],
   "source": [
    "class Animal:\n",
    "    def __init__(self,species,name):\n",
    "        self.species = species\n",
    "        self.name = name\n",
    "p1 = Animal(\"Dog\",\"Buddy\")\n",
    "print(p1.name)\n",
    "print(p1.species)"
   ]
  },
  {
   "cell_type": "markdown",
   "id": "16348840-ccc4-4bf1-aaad-b6b62ee9f27f",
   "metadata": {},
   "source": [
    "6) Create a class named Car with attributes for brand, model, and year. Add a method car_info that prints a formatted string with this information. Create an instance of the Car class and call the car_info method.\n",
    "\n"
   ]
  },
  {
   "cell_type": "code",
   "execution_count": 49,
   "id": "a2eeab34-62c6-4eeb-84b9-3fb45f41fd25",
   "metadata": {},
   "outputs": [
    {
     "name": "stdout",
     "output_type": "stream",
     "text": [
      "toyota crilis 2004\n"
     ]
    }
   ],
   "source": [
    "class Car:\n",
    "    def __init__(self,brand,model,year):\n",
    "        self.brand = brand\n",
    "        self.model = model\n",
    "        self.year = year\n",
    "    def car_info(self):\n",
    "        print(f\"{self.brand} {self.model} {self.year}\")\n",
    "My_car = Car(\"toyota\",\"crilis\",2004)\n",
    "My_car.car_info()\n",
    "        "
   ]
  },
  {
   "cell_type": "markdown",
   "id": "0a7b1622-5710-42fb-b7be-ed762e07f9dd",
   "metadata": {},
   "source": [
    "7) Create a class named Person with an __init__ method and a method introduce that prints a greeting including the person's name. Instantiate an object with the name \"Alice\" and call the introduce method.\n",
    "\n"
   ]
  },
  {
   "cell_type": "code",
   "execution_count": 76,
   "id": "cc7aa9cb-4158-4f9c-ab58-a875d4ec3c23",
   "metadata": {},
   "outputs": [
    {
     "name": "stdout",
     "output_type": "stream",
     "text": [
      "Good Morning Alice\n"
     ]
    }
   ],
   "source": [
    "class Person:\n",
    "    def __init__(self,name):\n",
    "        self.name = name\n",
    "    def introduce(self):    \n",
    "        print(f\"Good Morning {self.name}\")\n",
    "p1 = Person(\"Alice\") \n",
    "p1.introduce()\n"
   ]
  },
  {
   "cell_type": "markdown",
   "id": "8b5438cb-96cd-40ce-900d-ba7efb6402ea",
   "metadata": {},
   "source": [
    "8) Create a class named Student with attributes for name and grades (a list of grades). Add a method average_grade that returns the average of the grades. Create an instance of the Student class, add some grades, and print the average grade.\n",
    "\n"
   ]
  },
  {
   "cell_type": "code",
   "execution_count": 79,
   "id": "a5bd03e7-5c99-4d80-80e2-949fff5e866b",
   "metadata": {},
   "outputs": [
    {
     "name": "stdout",
     "output_type": "stream",
     "text": [
      "Alice's average grade is: 84.33\n"
     ]
    }
   ],
   "source": [
    "class Student:\n",
    "    def __init__(self, name):\n",
    "        self.name = name\n",
    "        self.grades = []  # Initialize an empty list for grades\n",
    "\n",
    "    def add_grade(self, grade):\n",
    "        self.grades.append(grade)\n",
    "\n",
    "    def average_grade(self):\n",
    "        if self.grades:  # Ensure there are grades before calculating\n",
    "            return sum(self.grades) / len(self.grades)\n",
    "        else:\n",
    "            return 0  # Return 0 if there are no grades\n",
    "\n",
    "# Create an instance of the Student class\n",
    "student = Student(\"Alice\")\n",
    "\n",
    "# Add some grades\n",
    "student.add_grade(85)\n",
    "student.add_grade(90)\n",
    "student.add_grade(78)\n",
    "\n",
    "# Print the average grade\n",
    "print(f\"{student.name}'s average grade is: {student.average_grade():.2f}\")\n",
    "        "
   ]
  },
  {
   "cell_type": "markdown",
   "id": "c1938574-3284-458c-bae1-d11457237374",
   "metadata": {},
   "source": [
    "\n",
    "9) Create a class named Book with attributes for title, author, and year_published. Add a method book_age that calculates how old the book is from the current year. Create an instance of the Book class and print the age of the book."
   ]
  },
  {
   "cell_type": "code",
   "execution_count": 91,
   "id": "90931167-10ea-41c4-a67b-672605f7d46c",
   "metadata": {},
   "outputs": [
    {
     "data": {
      "text/plain": [
       "67"
      ]
     },
     "execution_count": 91,
     "metadata": {},
     "output_type": "execute_result"
    }
   ],
   "source": [
    "from datetime import datetime\n",
    "\n",
    "class Book:\n",
    "    def __init__(self,title,author,year_published):\n",
    "        self.title = title\n",
    "        self.author = author\n",
    "        self.year_published = year_published\n",
    "        \n",
    "    def book_age(self):\n",
    "        current_year = datetime.now().year\n",
    "        return current_year - self.year_published\n",
    "p1 = Book(\"hindi\",\"ashis\",1958)\n",
    "p1.book_age()"
   ]
  },
  {
   "cell_type": "markdown",
   "id": "cd98696a-3e14-441a-acca-ed7ba54e3bc4",
   "metadata": {},
   "source": [
    "10) Write a BankAccount class with attributes for owner and balance. Add methods for deposit and withdraw. Create an instance and perform some deposits and withdrawals, then print the final balance.\n",
    "\n"
   ]
  },
  {
   "cell_type": "code",
   "execution_count": null,
   "id": "9c33b61b-8113-45fd-8261-bb6550691974",
   "metadata": {},
   "outputs": [],
   "source": [
    "class BankAccount:\n",
    "    def __init__(self, owner, balance=0):\n",
    "        self.owner = owner\n",
    "        self.balance = balance\n",
    "\n",
    "    def deposit(self, amount):\n",
    "        if amount > 0:\n",
    "            self.balance += amount\n",
    "            print(f\"Deposited ${amount:.2f}. New balance: ${self.balance:.2f}\")\n",
    "        else:\n",
    "            print(\"Deposit amount must be positive.\")\n",
    "\n",
    "    def withdraw(self, amount):\n",
    "        if amount > 0:\n",
    "            if amount <= self.balance:\n",
    "                self.balance -= amount\n",
    "                print(f\"Withdrew ${amount:.2f}. New balance: ${self.balance:.2f}\")\n",
    "            else:\n",
    "                print(\"Insufficient funds.\")\n",
    "        else:\n",
    "            print(\"Withdrawal amount must be positive.\")\n",
    "\n",
    "# Create an instance of BankAccount\n",
    "account = BankAccount(\"Alice\", 100)\n",
    "\n",
    "# Perform transactions\n",
    "account.deposit(50)\n",
    "account.withdraw(30)\n",
    "account.withdraw(150)  # Attempting to withdraw more than the balance\n",
    "\n",
    "# Print the final balance\n",
    "print(f\"Final balance for {account.owner}: ${account.balance:.2f}\")"
   ]
  },
  {
   "cell_type": "markdown",
   "id": "56410639-16e4-486a-afa6-ca075b17092a",
   "metadata": {},
   "source": [
    "11) Create a Calculator class with methods for addition, subtraction, multiplication, and division. Use this class to perform a series of calculations and print the results.\n",
    "\n"
   ]
  },
  {
   "cell_type": "code",
   "execution_count": 99,
   "id": "2e260549-d807-4001-a3f7-4e7c9293fe48",
   "metadata": {},
   "outputs": [
    {
     "name": "stdout",
     "output_type": "stream",
     "text": [
      "Addition:  15\n",
      "Subtraction:  5\n",
      "Multiplication:  50\n",
      "Division:  2.0\n"
     ]
    }
   ],
   "source": [
    "class Calculator:\n",
    "    def add(self, a, b):\n",
    "        return a + b\n",
    "    \n",
    "    def subtract(self, a, b):\n",
    "        return a - b\n",
    "    \n",
    "    def multiply(self, a, b):\n",
    "        return a * b\n",
    "    \n",
    "    def divide(self, a, b):\n",
    "        if b == 0:\n",
    "            return \"Error: Division by zero is not allowed.\"\n",
    "        return a / b\n",
    "\n",
    "calc = Calculator()\n",
    "\n",
    "# Performing calculations\n",
    "print(\"Addition: \", calc.add(10, 5))\n",
    "print(\"Subtraction: \", calc.subtract(10, 5))\n",
    "print(\"Multiplication: \", calc.multiply(10, 5))\n",
    "print(\"Division: \", calc.divide(10, 5))"
   ]
  },
  {
   "cell_type": "code",
   "execution_count": null,
   "id": "50d18af0-db55-483f-95ab-45589b1783eb",
   "metadata": {},
   "outputs": [],
   "source": []
  }
 ],
 "metadata": {
  "kernelspec": {
   "display_name": "Python 3 (ipykernel)",
   "language": "python",
   "name": "python3"
  },
  "language_info": {
   "codemirror_mode": {
    "name": "ipython",
    "version": 3
   },
   "file_extension": ".py",
   "mimetype": "text/x-python",
   "name": "python",
   "nbconvert_exporter": "python",
   "pygments_lexer": "ipython3",
   "version": "3.12.4"
  }
 },
 "nbformat": 4,
 "nbformat_minor": 5
}
