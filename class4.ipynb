{
 "cells": [
  {
   "cell_type": "markdown",
   "id": "9de49140-d346-49cc-b75e-36e40cbccd9a",
   "metadata": {},
   "source": [
    "1) demonstrate the use of the following arithmetic operators in Python on any numbers:\n",
    "\n"
   ]
  },
  {
   "cell_type": "code",
   "execution_count": 23,
   "id": "f185dff8-285b-420f-bcea-ef6b57cbae8d",
   "metadata": {},
   "outputs": [
    {
     "data": {
      "text/plain": [
       "9"
      ]
     },
     "execution_count": 23,
     "metadata": {},
     "output_type": "execute_result"
    }
   ],
   "source": [
    "##addition\n",
    "5+4\n"
   ]
  },
  {
   "cell_type": "code",
   "execution_count": 5,
   "id": "c1e7c8bb-74b5-48f5-8a15-3dd7c6489fad",
   "metadata": {},
   "outputs": [
    {
     "data": {
      "text/plain": [
       "1"
      ]
     },
     "execution_count": 5,
     "metadata": {},
     "output_type": "execute_result"
    }
   ],
   "source": [
    "##Subtraction\n",
    "5-4"
   ]
  },
  {
   "cell_type": "code",
   "execution_count": 9,
   "id": "bf076a66-36cc-433a-87d5-711141f8c786",
   "metadata": {},
   "outputs": [
    {
     "data": {
      "text/plain": [
       "20"
      ]
     },
     "execution_count": 9,
     "metadata": {},
     "output_type": "execute_result"
    }
   ],
   "source": [
    "## Multiplication\n",
    "5*4"
   ]
  },
  {
   "cell_type": "code",
   "execution_count": 11,
   "id": "b42b17d5-f0a8-46ea-b7bf-baca460fc084",
   "metadata": {},
   "outputs": [
    {
     "data": {
      "text/plain": [
       "1.25"
      ]
     },
     "execution_count": 11,
     "metadata": {},
     "output_type": "execute_result"
    }
   ],
   "source": [
    "##Division\n",
    "5/4"
   ]
  },
  {
   "cell_type": "code",
   "execution_count": 21,
   "id": "edd43f43-f94c-490b-886b-bd3566141ffc",
   "metadata": {},
   "outputs": [
    {
     "data": {
      "text/plain": [
       "2"
      ]
     },
     "execution_count": 21,
     "metadata": {},
     "output_type": "execute_result"
    }
   ],
   "source": [
    "##Modulus\n",
    "50%4"
   ]
  },
  {
   "cell_type": "code",
   "execution_count": 15,
   "id": "9b459eda-c9d4-4bb7-afeb-6143879a5cba",
   "metadata": {},
   "outputs": [
    {
     "data": {
      "text/plain": [
       "625"
      ]
     },
     "execution_count": 15,
     "metadata": {},
     "output_type": "execute_result"
    }
   ],
   "source": [
    "##Exponentiation\n",
    "5**4"
   ]
  },
  {
   "cell_type": "code",
   "execution_count": 19,
   "id": "605c0ddb-a368-45d9-92ec-1ad16bbab1e6",
   "metadata": {},
   "outputs": [
    {
     "data": {
      "text/plain": [
       "12"
      ]
     },
     "execution_count": 19,
     "metadata": {},
     "output_type": "execute_result"
    }
   ],
   "source": [
    "##Floor Division\n",
    "50//4"
   ]
  },
  {
   "cell_type": "markdown",
   "id": "304d54ca-32e5-4106-b6fd-4a7a7206554e",
   "metadata": {},
   "source": [
    "\n",
    "2) Write Python expressions using comparison operators (less than, greater than, equal to, not equal to) and evaluate them. Include examples with both numbers and strings"
   ]
  },
  {
   "cell_type": "code",
   "execution_count": 26,
   "id": "5226cf82-c3cb-4f53-9a02-2e30c0c08f46",
   "metadata": {},
   "outputs": [
    {
     "data": {
      "text/plain": [
       "False"
      ]
     },
     "execution_count": 26,
     "metadata": {},
     "output_type": "execute_result"
    }
   ],
   "source": [
    "#less than\n",
    "5<4"
   ]
  },
  {
   "cell_type": "code",
   "execution_count": 30,
   "id": "c620fdba-ea3a-4052-a20a-115f8bfe8421",
   "metadata": {},
   "outputs": [
    {
     "data": {
      "text/plain": [
       "True"
      ]
     },
     "execution_count": 30,
     "metadata": {},
     "output_type": "execute_result"
    }
   ],
   "source": [
    "#equal to\n",
    "5==5"
   ]
  },
  {
   "cell_type": "code",
   "execution_count": 28,
   "id": "2b83a170-3930-477c-a2bb-67222b922b0e",
   "metadata": {},
   "outputs": [
    {
     "data": {
      "text/plain": [
       "True"
      ]
     },
     "execution_count": 28,
     "metadata": {},
     "output_type": "execute_result"
    }
   ],
   "source": [
    "#greater than\n",
    "5>4"
   ]
  },
  {
   "cell_type": "code",
   "execution_count": 32,
   "id": "9ddb75db-c3fe-487e-b0e8-c94861f7a380",
   "metadata": {},
   "outputs": [
    {
     "data": {
      "text/plain": [
       "False"
      ]
     },
     "execution_count": 32,
     "metadata": {},
     "output_type": "execute_result"
    }
   ],
   "source": [
    "#not equal to\n",
    "5!=5"
   ]
  },
  {
   "cell_type": "code",
   "execution_count": 36,
   "id": "1d11a19e-ff99-4dc4-9149-4aa3aaa791d0",
   "metadata": {},
   "outputs": [
    {
     "data": {
      "text/plain": [
       "True"
      ]
     },
     "execution_count": 36,
     "metadata": {},
     "output_type": "execute_result"
    }
   ],
   "source": [
    "\"s\"==\"s\""
   ]
  },
  {
   "cell_type": "code",
   "execution_count": 34,
   "id": "24f40403-9480-4ec3-8cac-443f195d8dfa",
   "metadata": {},
   "outputs": [
    {
     "data": {
      "text/plain": [
       "False"
      ]
     },
     "execution_count": 34,
     "metadata": {},
     "output_type": "execute_result"
    }
   ],
   "source": [
    "\"s\"!=\"s\""
   ]
  },
  {
   "cell_type": "markdown",
   "id": "5ec61c0e-c85e-40d5-9214-4ed061b72322",
   "metadata": {},
   "source": [
    "3) Create a string variable and use the ' in ' and ' not in ' keywords to check for the presence or absence of a substring within the string EX : \" Python Is Powerfull language\". & Print the results."
   ]
  },
  {
   "cell_type": "code",
   "execution_count": 39,
   "id": "c95f060b-4eb9-4ae9-a3a1-e5e9d9e89b15",
   "metadata": {},
   "outputs": [
    {
     "name": "stdout",
     "output_type": "stream",
     "text": [
      "True\n"
     ]
    }
   ],
   "source": [
    "var = \" Python Is Powerfull language\"\n",
    "print(\"Powerfull\" in var)"
   ]
  },
  {
   "cell_type": "code",
   "execution_count": 43,
   "id": "48a9f69c-fa67-4338-949e-b40d1bd94b50",
   "metadata": {},
   "outputs": [
    {
     "name": "stdout",
     "output_type": "stream",
     "text": [
      "False\n"
     ]
    }
   ],
   "source": [
    "print(\"Powerfull\" not in var)"
   ]
  },
  {
   "cell_type": "markdown",
   "id": "2b0932d9-8287-4cb0-83bc-cdc24694a2d1",
   "metadata": {},
   "source": [
    "4) Define a list with at least three elements. Use a for loop to print each element of the list.\n",
    "\n"
   ]
  },
  {
   "cell_type": "code",
   "execution_count": 46,
   "id": "f1082641-470b-453c-b65b-e43caabad0a7",
   "metadata": {},
   "outputs": [
    {
     "name": "stdout",
     "output_type": "stream",
     "text": [
      "ks\n",
      "54\n",
      "as\n"
     ]
    }
   ],
   "source": [
    "list = [\"ks\",54,\"as\"]\n",
    "for i in list:\n",
    "    print(i)"
   ]
  },
  {
   "cell_type": "markdown",
   "id": "54381746-54df-4f37-b025-85548087e2af",
   "metadata": {},
   "source": [
    "5. Use the range() function to print numbers from 10 to 1 using a for loop."
   ]
  },
  {
   "cell_type": "code",
   "execution_count": 75,
   "id": "57f15afe-728b-4edb-816d-bf263cdda3ec",
   "metadata": {},
   "outputs": [
    {
     "data": {
      "text/plain": [
       "range(0, 10)"
      ]
     },
     "execution_count": 75,
     "metadata": {},
     "output_type": "execute_result"
    }
   ],
   "source": [
    "range(10)\n"
   ]
  },
  {
   "cell_type": "code",
   "execution_count": 86,
   "id": "68f0f13d-d334-4024-af57-53493f0796a9",
   "metadata": {},
   "outputs": [
    {
     "name": "stdout",
     "output_type": "stream",
     "text": [
      "1\n",
      "2\n",
      "3\n",
      "4\n",
      "5\n",
      "6\n",
      "7\n",
      "8\n",
      "9\n"
     ]
    }
   ],
   "source": [
    "for i in range(1,10):\n",
    "    print(i)\n"
   ]
  },
  {
   "cell_type": "markdown",
   "id": "2a6a9db4-a60c-4eab-85de-6779d7dcd9f0",
   "metadata": {},
   "source": [
    "6. Create a string variable and demonstrate the following string methods: slicing, negative indexing, converting to uppercase converting to lowercase, stripping whitespace, replacing a substring, and splitting the string.\n",
    "\n"
   ]
  },
  {
   "cell_type": "code",
   "execution_count": 114,
   "id": "3c6eb935-dc3f-4156-828f-1a5c93c55462",
   "metadata": {},
   "outputs": [
    {
     "data": {
      "text/plain": [
       "'de'"
      ]
     },
     "execution_count": 114,
     "metadata": {},
     "output_type": "execute_result"
    }
   ],
   "source": [
    "var = \"kuldeep sahu\"\n",
    "var[3:5]"
   ]
  },
  {
   "cell_type": "code",
   "execution_count": 116,
   "id": "ec297b77-ffd9-4f95-96bc-aca2acf03d16",
   "metadata": {},
   "outputs": [
    {
     "data": {
      "text/plain": [
       "'a'"
      ]
     },
     "execution_count": 116,
     "metadata": {},
     "output_type": "execute_result"
    }
   ],
   "source": [
    "var[-3]"
   ]
  },
  {
   "cell_type": "code",
   "execution_count": 118,
   "id": "7b3685de-ccef-4f2c-9570-456a74aa6806",
   "metadata": {},
   "outputs": [
    {
     "data": {
      "text/plain": [
       "'KULDEEP SAHU'"
      ]
     },
     "execution_count": 118,
     "metadata": {},
     "output_type": "execute_result"
    }
   ],
   "source": [
    "var.upper()"
   ]
  },
  {
   "cell_type": "code",
   "execution_count": 120,
   "id": "2f9e0ad0-c10e-4a99-af35-d812337c4ad4",
   "metadata": {},
   "outputs": [
    {
     "data": {
      "text/plain": [
       "'kuldeep sahu'"
      ]
     },
     "execution_count": 120,
     "metadata": {},
     "output_type": "execute_result"
    }
   ],
   "source": [
    "var.lower()"
   ]
  },
  {
   "cell_type": "code",
   "execution_count": 122,
   "id": "5d3351cd-7d73-4507-872e-c763d77483b6",
   "metadata": {},
   "outputs": [
    {
     "data": {
      "text/plain": [
       "'kuldeep sahu'"
      ]
     },
     "execution_count": 122,
     "metadata": {},
     "output_type": "execute_result"
    }
   ],
   "source": [
    "var.strip()"
   ]
  },
  {
   "cell_type": "code",
   "execution_count": 124,
   "id": "efa5c1d8-c8cc-4d5c-9949-9fe1d558fbed",
   "metadata": {},
   "outputs": [
    {
     "data": {
      "text/plain": [
       "['kuldeep', 'sahu']"
      ]
     },
     "execution_count": 124,
     "metadata": {},
     "output_type": "execute_result"
    }
   ],
   "source": [
    "var.split()"
   ]
  },
  {
   "cell_type": "code",
   "execution_count": 132,
   "id": "0d4f80ef-2d90-4d8e-8836-5bddbbd0524a",
   "metadata": {},
   "outputs": [
    {
     "data": {
      "text/plain": [
       "'lalit sahu'"
      ]
     },
     "execution_count": 132,
     "metadata": {},
     "output_type": "execute_result"
    }
   ],
   "source": [
    "var.replace(\"kuldeep\", \"lalit\")"
   ]
  },
  {
   "cell_type": "markdown",
   "id": "50064492-298b-4210-b46c-5ccb318d70d3",
   "metadata": {},
   "source": [
    "7. Create a list inside list with at least five elements of different data types. Print the list."
   ]
  },
  {
   "cell_type": "code",
   "execution_count": 171,
   "id": "16f4b023-530b-4b4d-ac1d-2f290d43b02e",
   "metadata": {},
   "outputs": [
    {
     "name": "stdout",
     "output_type": "stream",
     "text": [
      "['sf', 54, 65, ['green', 24, 'blue'], True]\n"
     ]
    }
   ],
   "source": [
    "list = [\"sf\",54,65,[\"green\",24,\"blue\"],True]\n",
    "print(list)"
   ]
  },
  {
   "cell_type": "markdown",
   "id": "8524d53b-c365-44f5-a835-27194a552262",
   "metadata": {},
   "source": [
    "8) Access and print same item from the list using both positive and negative indexing.\n",
    "\n"
   ]
  },
  {
   "cell_type": "code",
   "execution_count": 144,
   "id": "fe9f6641-aa07-4ba6-9aba-a8f6c35ba9f5",
   "metadata": {},
   "outputs": [
    {
     "data": {
      "text/plain": [
       "True"
      ]
     },
     "execution_count": 144,
     "metadata": {},
     "output_type": "execute_result"
    }
   ],
   "source": [
    "list[4]"
   ]
  },
  {
   "cell_type": "code",
   "execution_count": 148,
   "id": "17f70446-12c5-48da-88ff-f817a42cd2ca",
   "metadata": {},
   "outputs": [
    {
     "data": {
      "text/plain": [
       "24"
      ]
     },
     "execution_count": 148,
     "metadata": {},
     "output_type": "execute_result"
    }
   ],
   "source": [
    "list[-2][1]"
   ]
  },
  {
   "cell_type": "markdown",
   "id": "3492ae80-3b52-4a80-8f57-841778dec96b",
   "metadata": {},
   "source": [
    "9. Modify elements of a list by using the append(), insert(), remove(), pop(), and del methods. Print the list after each operation."
   ]
  },
  {
   "cell_type": "code",
   "execution_count": 169,
   "id": "947e7c84-14e1-4faf-9544-af477fe64b48",
   "metadata": {},
   "outputs": [
    {
     "name": "stdout",
     "output_type": "stream",
     "text": [
      "['sf', 'kuldeep', 'kuldeep', 54, 65, ['green', 24, 'blue'], True, 'adil', 'adil']\n"
     ]
    }
   ],
   "source": [
    "list.append(\"adil\")\n",
    "print(list)"
   ]
  },
  {
   "cell_type": "code",
   "execution_count": 173,
   "id": "4b053aa4-2fc1-4c6c-a3eb-95ab89712cc1",
   "metadata": {},
   "outputs": [
    {
     "name": "stdout",
     "output_type": "stream",
     "text": [
      "['sf', 'kuldeep', 54, 65, ['green', 24, 'blue'], True]\n"
     ]
    }
   ],
   "source": [
    "list.insert(1,\"kuldeep\")\n",
    "print(list)"
   ]
  },
  {
   "cell_type": "code",
   "execution_count": 177,
   "id": "5e194b3a-adb5-4d87-b21d-94d60f36589a",
   "metadata": {},
   "outputs": [
    {
     "name": "stdout",
     "output_type": "stream",
     "text": [
      "['sf', 54, 65, ['green', 24, 'blue'], True]\n"
     ]
    }
   ],
   "source": [
    "list.pop(1)\n",
    "print(list)"
   ]
  },
  {
   "cell_type": "code",
   "execution_count": 187,
   "id": "01915128-0ec9-4c4b-97f2-a207e6a16bcd",
   "metadata": {},
   "outputs": [
    {
     "ename": "NameError",
     "evalue": "name 'list' is not defined",
     "output_type": "error",
     "traceback": [
      "\u001b[1;31m---------------------------------------------------------------------------\u001b[0m",
      "\u001b[1;31mNameError\u001b[0m                                 Traceback (most recent call last)",
      "Cell \u001b[1;32mIn[187], line 1\u001b[0m\n\u001b[1;32m----> 1\u001b[0m \u001b[38;5;28;01mdel\u001b[39;00m \u001b[38;5;28mlist\u001b[39m\n\u001b[0;32m      2\u001b[0m \u001b[38;5;28mprint\u001b[39m(\u001b[38;5;28mlist\u001b[39m)\n",
      "\u001b[1;31mNameError\u001b[0m: name 'list' is not defined"
     ]
    }
   ],
   "source": [
    "del list\n",
    "print(list)"
   ]
  },
  {
   "cell_type": "markdown",
   "id": "7d9aaef0-e8cc-4907-b05d-c41cdc2e6f0d",
   "metadata": {},
   "source": [
    "10. Join two lists and print the all item using for loop and also check is \"data\" present in list using \"if else\" statement. list_1 = [ 1,2,3,4,\"power\", True] and list_2= [\"one\", \"two\",\"Three\", \"Data\", False]"
   ]
  },
  {
   "cell_type": "code",
   "execution_count": 194,
   "id": "c04f669e-068a-4f18-86b7-de6ef13efa44",
   "metadata": {},
   "outputs": [
    {
     "name": "stdout",
     "output_type": "stream",
     "text": [
      "1\n",
      "2\n",
      "3\n",
      "4\n",
      "power\n",
      "True\n",
      "one\n",
      "two\n",
      "Three\n",
      "Data\n",
      "False\n"
     ]
    }
   ],
   "source": [
    " list_1 = [ 1,2,3,4,\"power\", True]\n",
    " list_2= [\"one\", \"two\",\"Three\", \"Data\", False]\n",
    " list = list_1+list_2\n",
    "for i in list:\n",
    "    print(i)"
   ]
  },
  {
   "cell_type": "code",
   "execution_count": 198,
   "id": "7363750d-edea-459e-b037-3d89f300bb45",
   "metadata": {},
   "outputs": [
    {
     "name": "stdout",
     "output_type": "stream",
     "text": [
      "data not present\n"
     ]
    }
   ],
   "source": [
    "if \"data\" in list:\n",
    "    print(\"data present\")\n",
    "else: \n",
    "     print(\"data not present\")"
   ]
  },
  {
   "cell_type": "code",
   "execution_count": null,
   "id": "b32f9260-aead-41cb-bbe6-693d2a76a098",
   "metadata": {},
   "outputs": [],
   "source": []
  }
 ],
 "metadata": {
  "kernelspec": {
   "display_name": "Python 3 (ipykernel)",
   "language": "python",
   "name": "python3"
  },
  "language_info": {
   "codemirror_mode": {
    "name": "ipython",
    "version": 3
   },
   "file_extension": ".py",
   "mimetype": "text/x-python",
   "name": "python",
   "nbconvert_exporter": "python",
   "pygments_lexer": "ipython3",
   "version": "3.12.4"
  }
 },
 "nbformat": 4,
 "nbformat_minor": 5
}
